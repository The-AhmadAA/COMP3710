{
 "cells": [
  {
   "cell_type": "code",
   "execution_count": null,
   "metadata": {},
   "outputs": [],
   "source": [
    "import torch\n",
    "import numpy as np\n",
    "import matplotlib.pyplot as plt\n"
   ]
  },
  {
   "cell_type": "markdown",
   "metadata": {},
   "source": []
  },
  {
   "cell_type": "code",
   "execution_count": null,
   "metadata": {},
   "outputs": [],
   "source": [
    "\n",
    "#device config \n",
    "device = torch.device('cuda' if torch.cuda.is_available() else 'cpu')\n",
    "\n",
    "# use numpy to create a 2D array of complex numbers on [-2,2]x[-2,2]\n",
    "\n",
    "Y, X = np.mgrid[-1.3:1.3:0.005, -2:1:0.005]\n",
    "\n",
    "# load into pytorch tensors\n",
    "x = torch.Tensor(X)\n",
    "y = torch.Tensor(Y)\n",
    "z = torch.complex(x, y) # important!\n",
    "zs = z.clone() # Updated!\n",
    "ns = torch.zeros_like(z)\n",
    "\n",
    "# transfer to the device\n",
    "z = z.to(device)\n",
    "zs = zs.to(device)\n",
    "ns = ns.to(device)\n",
    "\n",
    "# Mandelbrot set\n",
    "for i in range(200):\n",
    "    # compute the new values of z: z^2 + x\n",
    "    zs_ = zs * zs + z\n",
    "    \n",
    "    # Have we diverged with this new value?\n",
    "    not_diverged = torch.abs(zs_) < 4.0\n",
    "\n",
    "    # Update variables to compute\n",
    "    ns += not_diverged\n",
    "    zs = zs_\n",
    "\n",
    "# plot\n",
    "fig = plt.figure(figsize=(16, 10))\n",
    "\n",
    "def processFractal(a):\n",
    "    \"\"\"Display an array of iteration countes as a colourflul picture of a fractal\"\"\"\n",
    "    a_cyclic = (6.28 * a / 20.0).reshape(list(a.shape) + [1])\n",
    "    img = np.concatenate([10 + 20*np.cos(a_cyclic), 30 + 50 * np.sin(a_cyclic), 155 - 80 * np.cos(a_cyclic)], 2)\n",
    "    img[a==a.max()] = 0\n",
    "    a = img\n",
    "    a = np.uint8(np.clip(a, 0, 255))\n",
    "    return a\n",
    "\n",
    "plt.imshow(processFractal(ns.cpu().numpy()))\n",
    "plt.tight_layout(pad=0)\n",
    "plt.show()"
   ]
  }
 ],
 "metadata": {
  "kernelspec": {
   "display_name": "comp3710",
   "language": "python",
   "name": "python3"
  },
  "language_info": {
   "name": "python",
   "version": "3.12.4"
  }
 },
 "nbformat": 4,
 "nbformat_minor": 2
}
